{
 "cells": [
  {
   "cell_type": "markdown",
   "metadata": {},
   "source": [
    "# Visualizing a 4D Data Cube with Astrowidgets\n",
    "\n",
    "This is an example of reading and visualizing a four dimensional data cube using Astrowidgets."
   ]
  },
  {
   "cell_type": "code",
   "execution_count": null,
   "metadata": {},
   "outputs": [],
   "source": [
    "from astropy.nddata import NDData\n",
    "from astropy.wcs import WCS\n",
    "from ginga.misc.log import get_logger\n",
    "from matplotlib import pyplot as plt\n",
    "\n",
    "import ipywidgets as ipyw\n",
    "from IPython.display import display, clear_output\n",
    "\n",
    "from astrowidgets import ImageWidget\n",
    "\n",
    "%matplotlib inline\n",
    "\n",
    "# To prevent automatic figure display when execution of the cell ends\n",
    "# https://github.com/jupyter-widgets/ipywidgets/issues/1940\n",
    "%config InlineBackend.close_figures=False \n",
    "\n",
    "plt.ioff()"
   ]
  },
  {
   "cell_type": "markdown",
   "metadata": {},
   "source": [
    "Subclass `ImageWidget` to implement cube-specific behavior."
   ]
  },
  {
   "cell_type": "code",
   "execution_count": null,
   "metadata": {},
   "outputs": [],
   "source": [
    "class CubeWidget(ImageWidget):\n",
    "    def __init__(self, *args, **kwargs):\n",
    "        super().__init__(*args, **kwargs)\n",
    "        self._4d_idx = 0  # Lock 4th dim to this for now\n",
    "        \n",
    "        # For line profile plot\n",
    "        self._cur_islice = None\n",
    "        self._cur_ix = None\n",
    "        self._cur_iy = None\n",
    "        self.line_out = ipyw.Output()\n",
    "        self.line_plot = None\n",
    "        self.plot_xlabel = 'Ramp'\n",
    "        self.plot_ylabel = 'Pixel value'\n",
    "\n",
    "    def load_nddata(self, nddata, naxispath=None):\n",
    "        from ginga.AstroImage import AstroImage\n",
    "        image = AstroImage()\n",
    "        image.load_nddata(nddata, naxispath=[0, self._4d_idx])\n",
    "        self._viewer.set_image(image)\n",
    "        \n",
    "    def _mouse_click_cb(self, viewer, event, data_x, data_y):\n",
    "        self._cur_ix = int(round(data_x))\n",
    "        self._cur_iy = int(round(data_y))\n",
    "        self.plot_line_profile()\n",
    "        \n",
    "        # Ensure only active marker is shown\n",
    "        self.reset_markers()\n",
    "        \n",
    "        super()._mouse_click_cb(viewer, event, data_x, data_y)\n",
    "\n",
    "    def plot_line_profile(self):\n",
    "        if self.line_plot is None or self._cur_ix is None or self._cur_iy is None:\n",
    "            return\n",
    "\n",
    "        image = self._viewer.get_image()\n",
    "        if image is None:\n",
    "            return\n",
    "\n",
    "        with self.line_out:\n",
    "            mddata = image.get_mddata()\n",
    "            self.line_plot.clear()\n",
    "            self.line_plot.plot(mddata[self._4d_idx, :, self._cur_iy, self._cur_ix], 'b-')\n",
    "\n",
    "            if self._cur_islice is not None:\n",
    "                y = mddata[self._4d_idx, self._cur_islice, self._cur_iy, self._cur_ix]\n",
    "                self.line_plot.plot(self._cur_islice, y, 'ro')\n",
    "\n",
    "            self.line_plot.set_title(f'X={self._cur_ix + 1} Y={self._cur_iy + 1}')\n",
    "            self.line_plot.set_xlabel(self.plot_xlabel)\n",
    "            self.line_plot.set_ylabel(self.plot_ylabel)\n",
    "\n",
    "            clear_output(wait=True)\n",
    "            display(self.line_plot.figure)\n",
    "\n",
    "    def show_slice(self, n):\n",
    "        image = self._viewer.get_image()\n",
    "        image.set_naxispath([n, self._4d_idx])\n",
    "        self._viewer.redraw(whence=0)\n",
    "        self._cur_islice = n"
   ]
  },
  {
   "cell_type": "code",
   "execution_count": null,
   "metadata": {},
   "outputs": [],
   "source": [
    "logger = get_logger('my viewer', log_stderr=True, log_file=None, level=30)"
   ]
  },
  {
   "cell_type": "code",
   "execution_count": null,
   "metadata": {},
   "outputs": [],
   "source": [
    "w = CubeWidget(logger=logger)"
   ]
  },
  {
   "cell_type": "markdown",
   "metadata": {},
   "source": [
    "Generate a fake 4D data cube."
   ]
  },
  {
   "cell_type": "raw",
   "metadata": {},
   "source": [
    "import numpy as np\n",
    "\n",
    "pf = None  # Not using FITS file pointer\n",
    "cube4d = np.random.random((2, 5, 100, 200))\n",
    "\n",
    "# Convert to NDData.\n",
    "im = NDData(cube4d, wcs=WCS(naxis=4))"
   ]
  },
  {
   "cell_type": "markdown",
   "metadata": {},
   "source": [
    "**--- OR ---**\n",
    "\n",
    "Load an existing data cube.\n",
    "\n",
    "Dask support requires https://github.com/ejeschke/ginga/pull/805."
   ]
  },
  {
   "cell_type": "code",
   "execution_count": null,
   "metadata": {},
   "outputs": [],
   "source": [
    "import dask.array as da\n",
    "from astropy.io import fits\n",
    "\n",
    "# This is a large cube that is 6GB.\n",
    "filename = '/redkeep/ironthrone/ssb/stginga/test_data/NRCN815A_LIN_20160115_uncal.fits'\n",
    "pf = fits.open(filename, memmap=True)\n",
    "\n",
    "# There is no WCS assigned for UNCAL file yet.\n",
    "# This is a dummy WCS.\n",
    "im_wcs = WCS(pf[1].header)\n",
    "\n",
    "# Convert to NDData that wraps a Dask array.\n",
    "# Must provide Dask with a name to avoid hashing.\n",
    "# Shape is (1, 190, 2048, 2048)\n",
    "im = NDData(da.from_array(pf[1].data, name='nircam_sci'), wcs=im_wcs)"
   ]
  },
  {
   "cell_type": "markdown",
   "metadata": {},
   "source": [
    "Grab the `z`-dimension for slider."
   ]
  },
  {
   "cell_type": "code",
   "execution_count": null,
   "metadata": {},
   "outputs": [],
   "source": [
    "n_3d = im.data.shape[1]"
   ]
  },
  {
   "cell_type": "markdown",
   "metadata": {},
   "source": [
    "Load `NDData` into viewer widget."
   ]
  },
  {
   "cell_type": "code",
   "execution_count": null,
   "metadata": {},
   "outputs": [],
   "source": [
    "# Loading a fake WCS into widget sometimes gives error.\n",
    "# Try reloading before giving up.\n",
    "w.load_nddata(im)"
   ]
  },
  {
   "cell_type": "markdown",
   "metadata": {},
   "source": [
    "Create a slider for third dimension."
   ]
  },
  {
   "cell_type": "code",
   "execution_count": null,
   "metadata": {},
   "outputs": [],
   "source": [
    "def show_slice(n):\n",
    "    w.show_slice(n - 1)\n",
    "    w.plot_line_profile()  # Update the red dot\n",
    "\n",
    "slider = ipyw.interactive(\n",
    "    show_slice,\n",
    "    n=ipyw.IntSlider(min=1, max=n_3d, step=1, value=0, continuous_update=False))"
   ]
  },
  {
   "cell_type": "markdown",
   "metadata": {},
   "source": [
    "Set up the plot and hook to widget."
   ]
  },
  {
   "cell_type": "code",
   "execution_count": null,
   "metadata": {},
   "outputs": [],
   "source": [
    "# If plot shows, rerun cell to hide it.\n",
    "ax = plt.gca();\n",
    "\n",
    "w.line_plot = ax"
   ]
  },
  {
   "cell_type": "markdown",
   "metadata": {},
   "source": [
    "This marks the spot being clicked on the viewer.\n",
    "\n",
    "NOTE: `w.get_markers(marker_name=marker_name)` might not work if the given WCS cannot be successfully converted to `SkyCoord`."
   ]
  },
  {
   "cell_type": "code",
   "execution_count": null,
   "metadata": {},
   "outputs": [],
   "source": [
    "marker_name = 'line_profile'\n",
    "\n",
    "# Clean previous call in same session.\n",
    "w.stop_marking()\n",
    "\n",
    "w.start_marking(\n",
    "    marker_name=marker_name,\n",
    "    marker={'type': 'circle', 'color': 'red', 'radius': 25})"
   ]
  },
  {
   "cell_type": "markdown",
   "metadata": {},
   "source": [
    "Display the widgets."
   ]
  },
  {
   "cell_type": "code",
   "execution_count": null,
   "metadata": {},
   "outputs": [],
   "source": [
    "display(ipyw.HBox([ipyw.VBox([slider, w]), w.line_out]))"
   ]
  },
  {
   "cell_type": "markdown",
   "metadata": {},
   "source": [
    "Stop marking when done."
   ]
  },
  {
   "cell_type": "code",
   "execution_count": null,
   "metadata": {},
   "outputs": [],
   "source": [
    "w.stop_marking()"
   ]
  },
  {
   "cell_type": "markdown",
   "metadata": {},
   "source": [
    "Close the file pointer, if open."
   ]
  },
  {
   "cell_type": "code",
   "execution_count": null,
   "metadata": {},
   "outputs": [],
   "source": [
    "if pf is not None:\n",
    "    pf.close()"
   ]
  }
 ],
 "metadata": {
  "kernelspec": {
   "display_name": "Python 3",
   "language": "python",
   "name": "python3"
  },
  "language_info": {
   "codemirror_mode": {
    "name": "ipython",
    "version": 3
   },
   "file_extension": ".py",
   "mimetype": "text/x-python",
   "name": "python",
   "nbconvert_exporter": "python",
   "pygments_lexer": "ipython3",
   "version": "3.7.3"
  }
 },
 "nbformat": 4,
 "nbformat_minor": 2
}
