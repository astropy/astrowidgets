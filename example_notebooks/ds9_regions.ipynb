{
 "cells": [
  {
   "cell_type": "markdown",
   "metadata": {},
   "source": [
    "# Widget Example Using Ginga and DS9 Regions"
   ]
  },
  {
   "cell_type": "markdown",
   "metadata": {},
   "source": [
    "See https://astrowidgets.readthedocs.io for additional details about the widget, including installation notes.\n",
    "\n",
    "This notebook needs an extra package called [regions](https://github.com/astropy/regions) and a version of Ginga that includes https://github.com/ejeschke/ginga/pull/787/."
   ]
  },
  {
   "cell_type": "code",
   "execution_count": null,
   "metadata": {},
   "outputs": [],
   "source": [
    "from astropy.coordinates import Angle, SkyCoord\n",
    "from regions import CircleSkyRegion, read_ds9, write_ds9"
   ]
  },
  {
   "cell_type": "code",
   "execution_count": null,
   "metadata": {},
   "outputs": [],
   "source": [
    "from astrowidgets import ImageWidget"
   ]
  },
  {
   "cell_type": "code",
   "execution_count": null,
   "metadata": {},
   "outputs": [],
   "source": [
    "from ginga.misc.log import get_logger\n",
    "from ginga.util.ap_region import ginga_canvas_object_to_astropy_region\n",
    "\n",
    "logger = get_logger('my viewer', log_stderr=True,\n",
    "                    log_file=None, level=30)"
   ]
  },
  {
   "cell_type": "code",
   "execution_count": null,
   "metadata": {},
   "outputs": [],
   "source": [
    "w = ImageWidget(logger=logger)"
   ]
  },
  {
   "cell_type": "markdown",
   "metadata": {},
   "source": [
    "For this example, we use an image from Astropy data repository and load it as `CCDData`. Feel free to modify `filename` to point to your desired image."
   ]
  },
  {
   "cell_type": "code",
   "execution_count": null,
   "metadata": {},
   "outputs": [],
   "source": [
    "filename = 'http://data.astropy.org/photometry/spitzer_example_image.fits'\n",
    "numhdu = 0\n",
    "\n",
    "# Loads NDData\n",
    "# NOTE: memmap=False is needed for remote data on Windows.\n",
    "# NOTE: Some file also requires unit to be explicitly set in CCDData.\n",
    "from astropy.nddata import CCDData\n",
    "ccd = CCDData.read(filename, hdu=numhdu, format='fits')\n",
    "w.load_nddata(ccd)"
   ]
  },
  {
   "cell_type": "markdown",
   "metadata": {},
   "source": [
    "A viewer will be shown after running the next cell.\n",
    "In Jupyter Lab, you can split it out into a separate view by right-clicking on the viewer and then select\n",
    "\"Create New View for Output\". Then, you can drag the new\n",
    "\"Output View\" tab, say, to the right side of the workspace. Both viewers are connected to the same events."
   ]
  },
  {
   "cell_type": "code",
   "execution_count": null,
   "metadata": {},
   "outputs": [],
   "source": [
    "w"
   ]
  },
  {
   "cell_type": "markdown",
   "metadata": {},
   "source": [
    "Instead of using `astrowidgets` or interactive GUI, we use `regions` package to define regions using sky coordinates. See https://astropy-regions.readthedocs.io/en/latest/getting_started.html for more details.\n",
    "\n",
    "Then, we write them out to a DS9 region file.\n",
    "\n",
    "*At the time of writing (2019-09-11), it appears that `write_ds9` function (from `regions` 0.5.dev) only accepts sky regions, not pixel regions with pixel radius. `write_ds9` also silently overwrites output file if it exists.*"
   ]
  },
  {
   "cell_type": "code",
   "execution_count": null,
   "metadata": {},
   "outputs": [],
   "source": [
    "sky_region_1 = CircleSkyRegion(\n",
    "    SkyCoord(18.20644266, 0.19280533, unit='deg', frame='galactic'), Angle(0.01, 'deg'))\n",
    "\n",
    "sky_region_2 = CircleSkyRegion(\n",
    "    SkyCoord(18.23716266, 0.24195733, unit='deg', frame='galactic'), Angle(0.015, 'deg'))"
   ]
  },
  {
   "cell_type": "code",
   "execution_count": null,
   "metadata": {},
   "outputs": [],
   "source": [
    "ds9_region_file = 'spitzer_ds9.reg'\n",
    "\n",
    "write_ds9([sky_region_1, sky_region_2], ds9_region_file, coordsys='galactic')"
   ]
  },
  {
   "cell_type": "markdown",
   "metadata": {},
   "source": [
    "The DS9 region file would look something like this:\n",
    "```\n",
    "# Region file format: DS9 astropy/regions\n",
    "galactic\n",
    "circle(18.206443,0.192805,0.010000)\n",
    "circle(18.237163,0.241957,0.015000)\n",
    "```\n",
    "\n",
    "We can read it back in using `read_ds9` function. However, to plot it, we have to convert its regions from sky to pixel coordinates for the given image WCS."
   ]
  },
  {
   "cell_type": "code",
   "execution_count": null,
   "metadata": {},
   "outputs": [],
   "source": [
    "ds9_sky_regions = read_ds9(ds9_region_file)\n",
    "ds9_pixel_regions = [r.to_pixel(wcs=ccd.wcs) for r in ds9_sky_regions]"
   ]
  },
  {
   "cell_type": "markdown",
   "metadata": {},
   "source": [
    "Once you have region objects from `regions` (whether they are from DS9 or not), you can pass them into `astrowidgets` (currently only supported via Ginga backend). After running, the cell below, you will see two green circles on the image display above."
   ]
  },
  {
   "cell_type": "code",
   "execution_count": null,
   "metadata": {},
   "outputs": [],
   "source": [
    "w.add_regions(ds9_pixel_regions)"
   ]
  },
  {
   "cell_type": "markdown",
   "metadata": {},
   "source": [
    "Let's define another region and display it as well. After running the cell below, you will see a third larger green circle on the image display above."
   ]
  },
  {
   "cell_type": "code",
   "execution_count": null,
   "metadata": {},
   "outputs": [],
   "source": [
    "sky_region_3 = CircleSkyRegion(\n",
    "    SkyCoord('01h13m23.193s', '+00d12m32.19s', frame='galactic'),\n",
    "    Angle(0.03, 'deg')).to_pixel(wcs=ccd.wcs)\n",
    "\n",
    "w.add_regions([sky_region_3])"
   ]
  },
  {
   "cell_type": "markdown",
   "metadata": {},
   "source": [
    "To clear the canvas, for now, we have to use a very Ginga-specific API. This will change when the interface to `regions` matures and `regions` can integrate with existing API for markers."
   ]
  },
  {
   "cell_type": "code",
   "execution_count": null,
   "metadata": {},
   "outputs": [],
   "source": [
    "w._viewer.canvas.delete_all_objects()"
   ]
  },
  {
   "cell_type": "markdown",
   "metadata": {},
   "source": [
    "Now, let's try marking some stars on the image viewer interactively. Run the cell below and then click on the stars on the image display above a few times."
   ]
  },
  {
   "cell_type": "code",
   "execution_count": null,
   "metadata": {},
   "outputs": [],
   "source": [
    "w.start_marking()"
   ]
  },
  {
   "cell_type": "markdown",
   "metadata": {},
   "source": [
    "When you are done marking the stars, run the cell below and proceed."
   ]
  },
  {
   "cell_type": "code",
   "execution_count": null,
   "metadata": {},
   "outputs": [],
   "source": [
    "w.stop_marking()"
   ]
  },
  {
   "cell_type": "code",
   "execution_count": null,
   "metadata": {},
   "outputs": [],
   "source": [
    "markers_table = w.get_markers(marker_name='all')\n",
    "print(markers_table)"
   ]
  },
  {
   "cell_type": "markdown",
   "metadata": {},
   "source": [
    "To transform the interactive markers to `regions` objects, currently we need Ginga specific API. In the future, this may change."
   ]
  },
  {
   "cell_type": "code",
   "execution_count": null,
   "metadata": {},
   "outputs": [],
   "source": [
    "ginga_objs = w._viewer.canvas.get_object_by_tag('interactive-markers')"
   ]
  },
  {
   "cell_type": "code",
   "execution_count": null,
   "metadata": {},
   "outputs": [],
   "source": [
    "reg_objs = [ginga_canvas_object_to_astropy_region(gobj) for gobj in ginga_objs.objects]"
   ]
  },
  {
   "cell_type": "code",
   "execution_count": null,
   "metadata": {},
   "outputs": [],
   "source": [
    "for reg_obj in reg_objs:\n",
    "    print('{}\\n'.format(reg_obj))"
   ]
  }
 ],
 "metadata": {
  "kernelspec": {
   "display_name": "Python 3",
   "language": "python",
   "name": "python3"
  },
  "language_info": {
   "codemirror_mode": {
    "name": "ipython",
    "version": 3
   },
   "file_extension": ".py",
   "mimetype": "text/x-python",
   "name": "python",
   "nbconvert_exporter": "python",
   "pygments_lexer": "ipython3",
   "version": "3.7.3"
  }
 },
 "nbformat": 4,
 "nbformat_minor": 2
}
