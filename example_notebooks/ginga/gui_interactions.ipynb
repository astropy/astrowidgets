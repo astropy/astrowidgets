{
 "cells": [
  {
   "cell_type": "markdown",
   "metadata": {},
   "source": [
    "# Default GUI interactions\n",
    "\n",
    "See https://astrowidgets.readthedocs.io for additional details about the widget, including installation notes."
   ]
  },
  {
   "cell_type": "markdown",
   "metadata": {},
   "source": [
    "This image widget has a deliberately simple set of GUI interactions defined out of the box. The GUI-related settings are:\n",
    "\n",
    "+ `click_center`: When set to `True`, a click on the image centers the image on the click location. **Default value:** `False`\n",
    "+ `scroll_pan`: When set to `True`, scrolling pans the image. When set to `False`, scrolling zooms in and out. **Default value:** `True`\n",
    "+ `click_drag`: When set to `True` click-and-drag pans the image. Setting this to `True` disables `click_center`. **Default value:** `False`\n",
    "\n",
    "In addition, enabling interactive marking changes whatever settings have been made before marking starts. When marking stops, the settings are restored to the values they had before marking began. During marking the settings are:\n",
    "\n",
    "+ `click_center`: `False`, since clicks add markers.\n",
    "+ `scroll_pan`: `True`, to ensure there is a way to pan while marking.\n",
    "+ `click_drag`: `False`, since clicks add markers."
   ]
  },
  {
   "cell_type": "code",
   "execution_count": null,
   "metadata": {},
   "outputs": [],
   "source": [
    "from astrowidgets.ginga import ImageWidget\n",
    "from ginga.misc.log import get_logger"
   ]
  },
  {
   "cell_type": "code",
   "execution_count": null,
   "metadata": {},
   "outputs": [],
   "source": [
    "logger = get_logger('my viewer', log_stderr=True,\n",
    "                    log_file=None, level=30)"
   ]
  },
  {
   "cell_type": "code",
   "execution_count": null,
   "metadata": {},
   "outputs": [],
   "source": [
    "imw = ImageWidget(logger, image_width=300, image_height=300)"
   ]
  },
  {
   "cell_type": "code",
   "execution_count": null,
   "metadata": {},
   "outputs": [],
   "source": [
    "filename = 'http://data.astropy.org/photometry/spitzer_example_image.fits'\n",
    "numhdu = 0\n",
    "\n",
    "# Loads NDData\n",
    "# NOTE: Some file also requires unit to be explicitly set in CCDData.\n",
    "from astropy.nddata import CCDData\n",
    "ccd = CCDData.read(filename, hdu=numhdu, format='fits')\n",
    "imw.load_nddata(ccd)"
   ]
  },
  {
   "cell_type": "code",
   "execution_count": null,
   "metadata": {},
   "outputs": [],
   "source": [
    "imw"
   ]
  },
  {
   "cell_type": "markdown",
   "metadata": {},
   "source": [
    "Turn off `scroll_pan` and turn on `click_drag`; note that zooming may be very sensitive."
   ]
  },
  {
   "cell_type": "code",
   "execution_count": null,
   "metadata": {},
   "outputs": [],
   "source": [
    "imw.scroll_pan = False\n",
    "imw.click_drag = True"
   ]
  },
  {
   "cell_type": "code",
   "execution_count": null,
   "metadata": {},
   "outputs": [],
   "source": [
    "imw.zoom_level = 'fit'"
   ]
  },
  {
   "cell_type": "markdown",
   "metadata": {},
   "source": [
    "Turn on click to center. Note that this disables click_drag."
   ]
  },
  {
   "cell_type": "code",
   "execution_count": null,
   "metadata": {},
   "outputs": [],
   "source": [
    "imw.click_center = True\n",
    "imw.click_drag"
   ]
  }
 ],
 "metadata": {
  "kernelspec": {
   "display_name": "Python 3",
   "language": "python",
   "name": "python3"
  },
  "language_info": {
   "codemirror_mode": {
    "name": "ipython",
    "version": 3
   },
   "file_extension": ".py",
   "mimetype": "text/x-python",
   "name": "python",
   "nbconvert_exporter": "python",
   "pygments_lexer": "ipython3",
   "version": "3.8.3"
  }
 },
 "nbformat": 4,
 "nbformat_minor": 2
}
