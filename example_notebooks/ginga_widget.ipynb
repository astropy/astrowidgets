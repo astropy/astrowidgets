{
 "cells": [
  {
   "cell_type": "markdown",
   "metadata": {},
   "source": [
    "# Widget Example Using Ginga"
   ]
  },
  {
   "cell_type": "markdown",
   "metadata": {},
   "source": [
    "See https://astrowidgets.readthedocs.io for additional details about the widget, including installation notes."
   ]
  },
  {
   "cell_type": "code",
   "execution_count": null,
   "metadata": {},
   "outputs": [],
   "source": [
    "from astrowidgets import ImageWidget"
   ]
  },
  {
   "cell_type": "code",
   "execution_count": null,
   "metadata": {},
   "outputs": [],
   "source": [
    "from ginga.misc.log import get_logger\n",
    "\n",
    "logger = get_logger('my viewer', log_stderr=True,\n",
    "                    log_file=None, level=30)"
   ]
  },
  {
   "cell_type": "code",
   "execution_count": null,
   "metadata": {},
   "outputs": [],
   "source": [
    "w = ImageWidget(logger=logger)"
   ]
  },
  {
   "cell_type": "markdown",
   "metadata": {},
   "source": [
    "For this example, we use an image from Astropy data repository and load it as `CCDData`. Feel free to modify `filename` to point to your desired image.\n",
    "\n",
    "Alternately, for local FITS file, you could load it like this instead:\n",
    "```python\n",
    "w.load_fits(filename, numhdu=numhdu)\n",
    "```    \n",
    "Or if you wish to load a data array natively (without WCS):\n",
    "```python\n",
    "from astropy.io import fits\n",
    "with fits.open(filename, memmap=False) as pf:\n",
    "    arr = pf[numhdu].data.copy()\n",
    "w.load_array(arr)\n",
    "```"
   ]
  },
  {
   "cell_type": "code",
   "execution_count": null,
   "metadata": {},
   "outputs": [],
   "source": [
    "filename = 'http://data.astropy.org/photometry/spitzer_example_image.fits'\n",
    "numhdu = 0\n",
    "\n",
    "# Loads NDData\n",
    "# NOTE: memmap=False is needed for remote data on Windows.\n",
    "# NOTE: Some file also requires unit to be explicitly set in CCDData.\n",
    "from astropy.nddata import CCDData\n",
    "ccd = CCDData.read(filename, hdu=numhdu, format='fits')\n",
    "w.load_nddata(ccd)"
   ]
  },
  {
   "cell_type": "markdown",
   "metadata": {},
   "source": [
    "Ginga key bindings documented at http://ginga.readthedocs.io/en/latest/quickref.html . Note that not all documented bindings would work here. Please use an alternate binding, if available, if the chosen one is not working.\n",
    "\n",
    "Here are the ones that worked during testing with Firefox 52.8.0 on RHEL7 64-bit:\n",
    "\n",
    "Key | Action | Notes\n",
    "--- | --- | ---\n",
    "`+` | Zoom in |\n",
    "`-` | Zoom out |\n",
    "Number (0-9) | Zoom in to specified level | 0 = 10\n",
    "Shift + number | Zoom out to specified level | Numpad does not work\n",
    "` (backtick) | Reset zoom |\n",
    "Space > `q` > arrow | Pan |\n",
    "ESC | Exit mode (pan, etc) |\n",
    "`c` | Center image\n",
    "Space > `d` > up/down arrow | Cycle through color distributions\n",
    "Space > `d` > Shift + `d` | Go back to linear color distribution\n",
    "Space > `s` > Shift + `s` | Set cut level to min/max\n",
    "Space > `s` > Shift + `a` | Set cut level to 0/255 (for 8bpp RGB images)\n",
    "Space > `s` > up/down arrow | Cycle through cuts algorithms\n",
    "Space > `l` | Toggle no/soft/normal lock |\n",
    "\n",
    "*TODO: Check out Contrast Mode next*"
   ]
  },
  {
   "cell_type": "markdown",
   "metadata": {},
   "source": [
    "A viewer will be shown after running the next cell.\n",
    "In Jupyter Lab, you can split it out into a separate view by right-clicking on the viewer and then select\n",
    "\"Create New View for Output\". Then, you can drag the new\n",
    "\"Output View\" tab, say, to the right side of the workspace. Both viewers are connected to the same events."
   ]
  },
  {
   "cell_type": "code",
   "execution_count": null,
   "metadata": {},
   "outputs": [],
   "source": [
    "w"
   ]
  },
  {
   "cell_type": "markdown",
   "metadata": {},
   "source": [
    "This next cell captures print outputs. You can pop it out like the viewer above. It is very convenient for debugging purpose."
   ]
  },
  {
   "cell_type": "code",
   "execution_count": null,
   "metadata": {},
   "outputs": [],
   "source": [
    "# Capture print outputs from the widget\n",
    "display(w.print_out)"
   ]
  },
  {
   "cell_type": "markdown",
   "metadata": {},
   "source": [
    "The following cell changes the visibility or position of the cursor info bar.\n"
   ]
  },
  {
   "cell_type": "code",
   "execution_count": null,
   "metadata": {},
   "outputs": [],
   "source": [
    "w.cursor = 'top'  # 'top', 'bottom', None\n",
    "print(w.cursor)"
   ]
  },
  {
   "cell_type": "markdown",
   "metadata": {},
   "source": [
    "The rest of the calls demonstrate how the widget API works. Comment/uncomment as needed. Feel free to experiment."
   ]
  },
  {
   "cell_type": "code",
   "execution_count": null,
   "metadata": {},
   "outputs": [],
   "source": [
    "# Programmatically center to (X, Y) on viewer\n",
    "w.center_on((1, 1))"
   ]
  },
  {
   "cell_type": "code",
   "execution_count": null,
   "metadata": {},
   "outputs": [],
   "source": [
    "# Programmatically offset w.r.t. current center\n",
    "w.offset_by(10, 10)"
   ]
  },
  {
   "cell_type": "code",
   "execution_count": null,
   "metadata": {},
   "outputs": [],
   "source": [
    "from astropy.coordinates import SkyCoord\n",
    "\n",
    "# Change the values here if you are not using given\n",
    "# example image.\n",
    "ra_str = '01h13m23.193s'\n",
    "dec_str = '+00d12m32.19s'\n",
    "frame = 'icrs'\n",
    "\n",
    "# Programmatically center to SkyCoord on viewer\n",
    "w.center_on(SkyCoord(ra_str, dec_str, frame=frame))"
   ]
  },
  {
   "cell_type": "code",
   "execution_count": null,
   "metadata": {},
   "outputs": [],
   "source": [
    "from astropy import units as u\n",
    "\n",
    "# Change the values if needed.\n",
    "deg_offset = 0.001 * u.deg\n",
    "\n",
    "# Programmatically offset (in degrees) w.r.t.\n",
    "# SkyCoord center\n",
    "w.offset_by(deg_offset, deg_offset)"
   ]
  },
  {
   "cell_type": "code",
   "execution_count": null,
   "metadata": {},
   "outputs": [],
   "source": [
    "# Show zoom level\n",
    "print(w.zoom_level)"
   ]
  },
  {
   "cell_type": "code",
   "execution_count": null,
   "metadata": {},
   "outputs": [],
   "source": [
    "# Programmatically zoom image on viewer\n",
    "w.zoom(2)"
   ]
  },
  {
   "cell_type": "code",
   "execution_count": null,
   "metadata": {},
   "outputs": [],
   "source": [
    "# Capture what viewer is showing and save RGB image.\n",
    "# Need https://github.com/ejeschke/ginga/pull/688 to work.\n",
    "w.save('test.png')"
   ]
  },
  {
   "cell_type": "code",
   "execution_count": null,
   "metadata": {},
   "outputs": [],
   "source": [
    "# Get all available image stretch options\n",
    "print(w.stretch_options)"
   ]
  },
  {
   "cell_type": "code",
   "execution_count": null,
   "metadata": {},
   "outputs": [],
   "source": [
    "# Get image stretch algorithm in use\n",
    "print(w.stretch)"
   ]
  },
  {
   "cell_type": "code",
   "execution_count": null,
   "metadata": {},
   "outputs": [],
   "source": [
    "# Change the stretch\n",
    "w.stretch = 'histeq'\n",
    "print(w.stretch)"
   ]
  },
  {
   "cell_type": "code",
   "execution_count": null,
   "metadata": {},
   "outputs": [],
   "source": [
    "# Get all available image cuts options\n",
    "print(w.autocut_options)"
   ]
  },
  {
   "cell_type": "code",
   "execution_count": null,
   "metadata": {},
   "outputs": [],
   "source": [
    "# Get image cut levels in use\n",
    "print(w.cuts)"
   ]
  },
  {
   "cell_type": "code",
   "execution_count": null,
   "metadata": {},
   "outputs": [],
   "source": [
    "# Change the cuts by providing explicit low/high values\n",
    "w.cuts = (0, 100)\n",
    "print(w.cuts)"
   ]
  },
  {
   "cell_type": "code",
   "execution_count": null,
   "metadata": {},
   "outputs": [],
   "source": [
    "# Change the cuts with an autocut algorithm\n",
    "w.cuts = 'zscale'\n",
    "print(w.cuts)"
   ]
  },
  {
   "cell_type": "code",
   "execution_count": null,
   "metadata": {},
   "outputs": [],
   "source": [
    "# This enables click to center.\n",
    "w.click_center = True"
   ]
  },
  {
   "cell_type": "markdown",
   "metadata": {},
   "source": [
    "Now, click on the image to center it."
   ]
  },
  {
   "cell_type": "code",
   "execution_count": null,
   "metadata": {},
   "outputs": [],
   "source": [
    "# Turn it back off so marking (next cell) can be done.\n",
    "w.click_center = False"
   ]
  },
  {
   "cell_type": "code",
   "execution_count": null,
   "metadata": {},
   "outputs": [],
   "source": [
    "# This enables marking mode.\n",
    "w.start_marking()\n",
    "print(w.is_marking)"
   ]
  },
  {
   "cell_type": "markdown",
   "metadata": {},
   "source": [
    "Now, click on the image to mark a point of interest."
   ]
  },
  {
   "cell_type": "code",
   "execution_count": null,
   "metadata": {},
   "outputs": [],
   "source": [
    "# When done, set back to False.\n",
    "w.stop_marking()\n",
    "print(w.is_marking)"
   ]
  },
  {
   "cell_type": "code",
   "execution_count": null,
   "metadata": {},
   "outputs": [],
   "source": [
    "# Get table of markers\n",
    "markers_table = w.get_markers(marker_name='all')\n",
    "\n",
    "# Default display might be hard to read, so we do this\n",
    "print('{:^8s} {:^8s} {:^28s}'.format(\n",
    "    'X', 'Y', 'Coordinates'))\n",
    "for row in markers_table:\n",
    "    c = row['coord'].to_string('hmsdms')\n",
    "    print('{:8.2f} {:8.2f} {}'.format(\n",
    "        row['x'], row['y'], c))"
   ]
  },
  {
   "cell_type": "code",
   "execution_count": null,
   "metadata": {},
   "outputs": [],
   "source": [
    "# Erase markers from display\n",
    "w.reset_markers()"
   ]
  },
  {
   "cell_type": "markdown",
   "metadata": {},
   "source": [
    "The following works even when we have set `w.is_marking=False`. This is because `w.is_marking` only controls the interactive marking and does not affect marking programmatically."
   ]
  },
  {
   "cell_type": "code",
   "execution_count": null,
   "metadata": {},
   "outputs": [],
   "source": [
    "# Programmatically re-mark from table using X, Y.\n",
    "# To be fancy, first 2 points marked as bigger\n",
    "# and thicker red circles.\n",
    "w.marker = {'type': 'circle', 'color': 'red', 'radius': 50,\n",
    "            'linewidth': 2}\n",
    "w.add_markers(markers_table[:2])\n",
    "# You can also change the type of marker to cross or plus\n",
    "w.marker = {'type': 'cross', 'color': 'cyan', 'radius': 20}\n",
    "w.add_markers(markers_table[2:])"
   ]
  },
  {
   "cell_type": "code",
   "execution_count": null,
   "metadata": {},
   "outputs": [],
   "source": [
    "# Erase them again\n",
    "w.reset_markers()\n",
    "\n",
    "# Programmatically re-mark from table using SkyCoord\n",
    "w.add_markers(markers_table, use_skycoord=True)"
   ]
  },
  {
   "cell_type": "code",
   "execution_count": null,
   "metadata": {},
   "outputs": [],
   "source": [
    "# Start marking again\n",
    "w.start_marking()\n",
    "print(w.is_marking)"
   ]
  },
  {
   "cell_type": "code",
   "execution_count": null,
   "metadata": {},
   "outputs": [],
   "source": [
    "# Stop marking AND clear markers.\n",
    "# Note that this deletes ALL of the markers\n",
    "w.stop_marking(clear_markers=True)\n",
    "print(w.is_marking)"
   ]
  },
  {
   "cell_type": "markdown",
   "metadata": {},
   "source": [
    "The next cell randomly generates some \"stars\" to mark. In the real world, you would probably detect real stars using `photutils` package."
   ]
  },
  {
   "cell_type": "code",
   "execution_count": null,
   "metadata": {},
   "outputs": [],
   "source": [
    "import numpy as np\n",
    "from astropy.table import Table\n",
    "\n",
    "# Maximum umber of \"stars\" to generate randomly.\n",
    "max_stars = 1000\n",
    "\n",
    "# Number of pixels from edge to avoid.\n",
    "dpix = 20\n",
    "\n",
    "# Image from the viewer.\n",
    "img = w._viewer.get_image()\n",
    "\n",
    "# Random \"stars\" generated.\n",
    "bad_locs = np.random.randint(\n",
    "    dpix, high=img.shape[1] - dpix, size=[max_stars, 2])\n",
    "\n",
    "# Only want those not near the edges.\n",
    "mask = ((dpix < bad_locs[:, 0]) &\n",
    "        (bad_locs[:, 0] < img.shape[0] - dpix) &\n",
    "        (dpix < bad_locs[:, 1]) &\n",
    "        (bad_locs[:, 1] < img.shape[1] - dpix))\n",
    "locs = bad_locs[mask]\n",
    "\n",
    "# Put them in table\n",
    "t = Table([locs[:, 1], locs[:, 0]], names=('x', 'y'))\n",
    "print(t)"
   ]
  },
  {
   "cell_type": "code",
   "execution_count": null,
   "metadata": {},
   "outputs": [],
   "source": [
    "# Mark those \"stars\" based on given table with X and Y.\n",
    "w.add_markers(t)"
   ]
  },
  {
   "cell_type": "markdown",
   "metadata": {},
   "source": [
    "The following illustrates how to control number of markers displayed using interactive widget from `ipywidgets`."
   ]
  },
  {
   "cell_type": "code",
   "execution_count": null,
   "metadata": {},
   "outputs": [],
   "source": [
    "# Set the marker properties as you like.\n",
    "w.marker = {'type': 'circle', 'color': 'red', 'radius': 10,\n",
    "            'linewidth': 2}\n",
    "\n",
    "# Define a function to control marker display\n",
    "def show_circles(n):\n",
    "    \"\"\"Show and hide circles.\"\"\"\n",
    "    w.reset_markers()\n",
    "    t2show = t[:n]\n",
    "    w.add_markers(t2show)\n",
    "    with w.print_out:\n",
    "        print('Displaying {} markers...'.format(len(t2show)))"
   ]
  },
  {
   "cell_type": "markdown",
   "metadata": {},
   "source": [
    "We redisplay the image widget below above the slider. Note that the slider affects both this view of the image widget and the one near the top of the notebook."
   ]
  },
  {
   "cell_type": "code",
   "execution_count": null,
   "metadata": {},
   "outputs": [],
   "source": [
    "from IPython.display import display\n",
    "\n",
    "import ipywidgets as ipyw\n",
    "from ipywidgets import interactive\n",
    "\n",
    "# Show the slider widget.\n",
    "slider = interactive(show_circles,\n",
    "                     n=ipyw.IntSlider(min=0,max=len(t),step=1,value=0, continuous_update=False))\n",
    "display(w, slider)"
   ]
  },
  {
   "cell_type": "markdown",
   "metadata": {},
   "source": [
    "Now, use the slider. The chosen `n` represents the first `n` \"stars\" being displayed."
   ]
  }
 ],
 "metadata": {
  "kernelspec": {
   "display_name": "Python 3",
   "language": "python",
   "name": "python3"
  },
  "language_info": {
   "codemirror_mode": {
    "name": "ipython",
    "version": 3
   },
   "file_extension": ".py",
   "mimetype": "text/x-python",
   "name": "python",
   "nbconvert_exporter": "python",
   "pygments_lexer": "ipython3",
   "version": "3.6.7"
  }
 },
 "nbformat": 4,
 "nbformat_minor": 2
}
