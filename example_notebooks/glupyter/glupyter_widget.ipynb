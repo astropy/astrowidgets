{
 "cells": [
  {
   "cell_type": "markdown",
   "metadata": {},
   "source": [
    "# Widget Example Using Glupyter\n",
    "\n",
    "Need dev versions of stuff."
   ]
  },
  {
   "cell_type": "code",
   "execution_count": null,
   "metadata": {},
   "outputs": [],
   "source": [
    "from astrowidgets.glupyter import ImageWidget"
   ]
  },
  {
   "cell_type": "code",
   "execution_count": null,
   "metadata": {},
   "outputs": [],
   "source": [
    "w = ImageWidget(show_axes=True)"
   ]
  },
  {
   "cell_type": "code",
   "execution_count": null,
   "metadata": {},
   "outputs": [],
   "source": [
    "w"
   ]
  },
  {
   "cell_type": "code",
   "execution_count": null,
   "metadata": {},
   "outputs": [],
   "source": [
    "filename = 'http://data.astropy.org/photometry/spitzer_example_image.fits'\n",
    "numhdu = 0\n",
    "\n",
    "w.load_fits(filename, numhdu=numhdu)"
   ]
  },
  {
   "cell_type": "raw",
   "metadata": {},
   "source": [
    "filename = 'http://data.astropy.org/photometry/spitzer_example_image.fits'\n",
    "numhdu = 0\n",
    "\n",
    "# Loads NDData\n",
    "# NOTE: Some file also requires unit to be explicitly set in CCDData.\n",
    "from astropy.nddata import CCDData\n",
    "ccd = CCDData.read(filename, hdu=numhdu, format='fits')\n",
    "w.load_nddata(ccd)"
   ]
  },
  {
   "cell_type": "raw",
   "metadata": {},
   "source": [
    "import numpy as np\n",
    "\n",
    "arr = np.arange(100).reshape((10, 10))\n",
    "w.load_array(arr)"
   ]
  },
  {
   "cell_type": "code",
   "execution_count": null,
   "metadata": {},
   "outputs": [],
   "source": [
    "# Set the display widget width\n",
    "w.image_width = 600\n",
    "print(w.image_width)"
   ]
  },
  {
   "cell_type": "code",
   "execution_count": null,
   "metadata": {},
   "outputs": [],
   "source": [
    "# Set the display widget height\n",
    "w.image_height = 400\n",
    "print(w.image_height)"
   ]
  },
  {
   "cell_type": "code",
   "execution_count": null,
   "metadata": {},
   "outputs": [],
   "source": [
    "# Change colormap\n",
    "w.set_colormap('viridis')"
   ]
  },
  {
   "cell_type": "code",
   "execution_count": null,
   "metadata": {},
   "outputs": [],
   "source": [
    "# Change stretch\n",
    "w.stretch = 'linear'\n",
    "print(w.stretch)"
   ]
  },
  {
   "cell_type": "code",
   "execution_count": null,
   "metadata": {},
   "outputs": [],
   "source": [
    "# Set cut levels\n",
    "w.cuts = (0, 10)\n",
    "print(w.cuts)"
   ]
  },
  {
   "cell_type": "code",
   "execution_count": null,
   "metadata": {},
   "outputs": [],
   "source": [
    "# Save display to PNG (window dialog will pop up)\n",
    "w.save('test.png')"
   ]
  }
 ],
 "metadata": {
  "kernelspec": {
   "display_name": "Python 3",
   "language": "python",
   "name": "python3"
  },
  "language_info": {
   "codemirror_mode": {
    "name": "ipython",
    "version": 3
   },
   "file_extension": ".py",
   "mimetype": "text/x-python",
   "name": "python",
   "nbconvert_exporter": "python",
   "pygments_lexer": "ipython3",
   "version": "3.8.3"
  }
 },
 "nbformat": 4,
 "nbformat_minor": 4
}
