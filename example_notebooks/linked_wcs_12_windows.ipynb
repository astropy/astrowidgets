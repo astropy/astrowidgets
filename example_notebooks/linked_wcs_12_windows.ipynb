{
 "cells": [
  {
   "cell_type": "markdown",
   "metadata": {},
   "source": [
    "Use case: 12 linked windows with one candidate loaded for each."
   ]
  },
  {
   "cell_type": "code",
   "execution_count": null,
   "metadata": {},
   "outputs": [],
   "source": [
    "import os\n",
    "\n",
    "from ipywidgets import Label, Button, HBox, VBox, Layout\n",
    "\n",
    "from ginga.misc import Datasrc\n",
    "from ginga.misc.log import get_logger\n",
    "from ginga.util import wcsmod\n",
    "from ginga.util.iohelper import get_fileinfo\n",
    "\n",
    "from astrowidgets import ImageWidget"
   ]
  },
  {
   "cell_type": "code",
   "execution_count": null,
   "metadata": {},
   "outputs": [],
   "source": [
    "# Reading ASDF in Ginga needs this to be specified early on\n",
    "wcsmod.use('astropy_ape14')"
   ]
  },
  {
   "cell_type": "code",
   "execution_count": null,
   "metadata": {},
   "outputs": [],
   "source": [
    "logger = get_logger('my viewer', log_stderr=True, log_file=None, level=30)"
   ]
  },
  {
   "cell_type": "code",
   "execution_count": null,
   "metadata": {},
   "outputs": [],
   "source": [
    "class LinkedImageWidget(ImageWidget):\n",
    "    def __init__(self, *args, **kwargs):\n",
    "        super().__init__(*args, **kwargs)\n",
    "        num_images = 10  # Max images in cache; should user be able to set this?\n",
    "        self.datasrc = Datasrc.Datasrc(num_images)  # Cache\n",
    "        self._other_viewers = []\n",
    "\n",
    "    # Need jwst package.\n",
    "    def load_jwst_asdf(self, filename):\n",
    "        if filename in self.datasrc:\n",
    "            image = self.datasrc[filename]\n",
    "        else:\n",
    "            import asdf\n",
    "            from ginga.AstroImage import AstroImage\n",
    "\n",
    "            image = AstroImage(logger=self.logger)\n",
    "            image.load_file(filename, data_key='data')\n",
    "\n",
    "            self.datasrc[filename] = image\n",
    "\n",
    "        self._viewer.set_image(image)\n",
    "\n",
    "    def load_fits(self, filename):\n",
    "        bnch = get_fileinfo(filename)\n",
    "        \n",
    "        if filename in self.datasrc:\n",
    "            image = self.datasrc[filename]\n",
    "            self._viewer.set_image(image)\n",
    "        else:\n",
    "            super().load_fits(bnch.filepath, numhdu=bnch.numhdu)\n",
    "            self.datasrc[filename] = self._viewer.get_image()\n",
    "        \n",
    "    def link_viewer(self, other_viewer):\n",
    "        if other_viewer in self._other_viewers:\n",
    "            raise ValueError('Viewer already linked')\n",
    "        self._other_viewers.append(other_viewer)\n",
    "\n",
    "    @property\n",
    "    def n_linked_viewers(self):\n",
    "        return len(self._other_viewers)\n",
    "\n",
    "    def _mouse_click_cb(self, viewer, event, data_x, data_y):\n",
    "        image = viewer.get_image()\n",
    "        if image is None:  # Nothing to do\n",
    "            return\n",
    "        \n",
    "        super()._mouse_click_cb(self._viewer, event, data_x, data_y)\n",
    "\n",
    "        for ov in self._other_viewers:\n",
    "            if not isinstance(ov, ImageWidget):\n",
    "                continue\n",
    "    \n",
    "            other_image = ov._viewer.get_image()\n",
    "            if other_image is None:\n",
    "                continue\n",
    "                \n",
    "            if image.wcs.wcs is not None and other_image.wcs.wcs is not None:\n",
    "                ra, dec = image.pixtoradec(data_x, data_y)\n",
    "                other_x, other_y = other_image.radectopix(ra, dec)\n",
    "            else:\n",
    "                other_x, other_y = data_x, data_y\n",
    "\n",
    "            ov._mouse_click_cb(ov._viewer, event, other_x, other_y)"
   ]
  },
  {
   "cell_type": "code",
   "execution_count": null,
   "metadata": {},
   "outputs": [],
   "source": [
    "n_widgets = 12\n",
    "w = []\n",
    "w_labels = []\n",
    "\n",
    "for _ in range(n_widgets):\n",
    "    i_w = LinkedImageWidget(logger=logger)\n",
    "    i_w.click_center = True\n",
    "    w.append(i_w)\n",
    "    w_labels.append(Label('Filename'))"
   ]
  },
  {
   "cell_type": "code",
   "execution_count": null,
   "metadata": {},
   "outputs": [],
   "source": [
    "# First widget is primary viewer for WCS matching\n",
    "for i in range(1, n_widgets):\n",
    "    w[0].link_viewer(w[i])"
   ]
  },
  {
   "cell_type": "code",
   "execution_count": null,
   "metadata": {},
   "outputs": [],
   "source": [
    "fits_files = [\n",
    "    '/redkeep/ironthrone/ssb/stginga/test_data/jw42424001001_01101_00001_nrca5_assign_wcs.fits',\n",
    "    '/redkeep/ironthrone/ssb/stginga/test_data/jw42424001001_01101_00002_nrca5_assign_wcs.fits',\n",
    "    '/redkeep/ironthrone/ssb/stginga/test_data/jw42424001001_01101_00003_nrca5_assign_wcs.fits']\n",
    "n_files = len(fits_files)"
   ]
  },
  {
   "cell_type": "code",
   "execution_count": null,
   "metadata": {},
   "outputs": [],
   "source": [
    "# Assign data to widgets.\n",
    "# If there is not enough data, repeat the data for testing purposes.\n",
    "for i in range(n_widgets):\n",
    "    filename = fits_files[i % n_files]\n",
    "    # w[i].load_fits(filename)  # FITS\n",
    "    w[i].load_jwst_asdf(filename)  # JWST ASDF-in-FITS\n",
    "    w_labels[i].value = os.path.basename(filename)"
   ]
  },
  {
   "cell_type": "code",
   "execution_count": null,
   "metadata": {},
   "outputs": [],
   "source": [
    "button_zoomlevel = Button(description=\"Sync zoom level\")\n",
    "\n",
    "def on_button_zoomlevel_clicked(b):\n",
    "    for i in range(1, n_widgets):\n",
    "        w[i].zoom_level = w[0].zoom_level\n",
    "\n",
    "button_zoomlevel.on_click(on_button_zoomlevel_clicked)"
   ]
  },
  {
   "cell_type": "code",
   "execution_count": null,
   "metadata": {
    "scrolled": false
   },
   "outputs": [],
   "source": [
    "# Manual arrangement for now\n",
    "VBox([button_zoomlevel,\n",
    "      HBox([VBox([w_labels[0], w[0]], layout=Layout(margin='0 10px 0 0')),\n",
    "            VBox([w_labels[1], w[1]], layout=Layout(margin='0 10px 0 0')),\n",
    "            VBox([w_labels[2], w[2]])]),\n",
    "      HBox([VBox([w_labels[3], w[3]], layout=Layout(margin='0 10px 0 0')),\n",
    "            VBox([w_labels[4], w[4]], layout=Layout(margin='0 10px 0 0')),\n",
    "            VBox([w_labels[5], w[5]])]),\n",
    "      HBox([VBox([w_labels[6], w[6]], layout=Layout(margin='0 10px 0 0')),\n",
    "            VBox([w_labels[7], w[7]], layout=Layout(margin='0 10px 0 0')),\n",
    "            VBox([w_labels[8], w[8]])]),\n",
    "      HBox([VBox([w_labels[9], w[9]], layout=Layout(margin='0 10px 0 0')),\n",
    "            VBox([w_labels[10], w[10]], layout=Layout(margin='0 10px 0 0')),\n",
    "            VBox([w_labels[11], w[11]])])])"
   ]
  },
  {
   "cell_type": "markdown",
   "metadata": {},
   "source": [
    "#### Instructions\n",
    "\n",
    "Images are pre-loaded into viewers already.\n",
    "\n",
    "Click on the top left viewer and the rest will match in RA and Dec of centered point. No distortion correction is performed at this point.\n",
    "\n",
    "Press `+`/`-` to zoom in/out. Click \"Sync zoom level\" button to have the viewers match the zoom level of the top left one."
   ]
  }
 ],
 "metadata": {
  "kernelspec": {
   "display_name": "Python 3",
   "language": "python",
   "name": "python3"
  },
  "language_info": {
   "codemirror_mode": {
    "name": "ipython",
    "version": 3
   },
   "file_extension": ".py",
   "mimetype": "text/x-python",
   "name": "python",
   "nbconvert_exporter": "python",
   "pygments_lexer": "ipython3",
   "version": "3.7.3"
  }
 },
 "nbformat": 4,
 "nbformat_minor": 2
}
