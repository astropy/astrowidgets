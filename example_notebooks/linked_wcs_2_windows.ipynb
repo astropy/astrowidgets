{
 "cells": [
  {
   "cell_type": "markdown",
   "metadata": {},
   "source": [
    "Use case: 2 linked windows with \"a hundred\" candidates to load for each using drop-down menus."
   ]
  },
  {
   "cell_type": "code",
   "execution_count": null,
   "metadata": {},
   "outputs": [],
   "source": [
    "import os\n",
    "\n",
    "from ipywidgets import Dropdown, Label, Button, HBox, VBox, Layout\n",
    "\n",
    "from ginga.misc import Datasrc\n",
    "from ginga.misc.log import get_logger\n",
    "from ginga.util import wcsmod\n",
    "from ginga.util.iohelper import get_fileinfo\n",
    "\n",
    "from astrowidgets import ImageWidget"
   ]
  },
  {
   "cell_type": "code",
   "execution_count": null,
   "metadata": {},
   "outputs": [],
   "source": [
    "# Reading ASDF in Ginga needs this to be specified early on\n",
    "wcsmod.use('astropy_ape14')"
   ]
  },
  {
   "cell_type": "code",
   "execution_count": null,
   "metadata": {},
   "outputs": [],
   "source": [
    "logger = get_logger('my viewer', log_stderr=True, log_file=None, level=30)"
   ]
  },
  {
   "cell_type": "code",
   "execution_count": null,
   "metadata": {},
   "outputs": [],
   "source": [
    "statusmsg = Label('')"
   ]
  },
  {
   "cell_type": "code",
   "execution_count": null,
   "metadata": {},
   "outputs": [],
   "source": [
    "class LinkedImageWidget(ImageWidget):\n",
    "    def __init__(self, *args, **kwargs):\n",
    "        super().__init__(*args, **kwargs)\n",
    "        num_images = 10  # Max images in cache; should user be able to set this?\n",
    "        self.datasrc = Datasrc.Datasrc(num_images)  # Cache\n",
    "        self._other_viewer = None\n",
    "        \n",
    "    def load_jwst_asdf(self, filename):\n",
    "        if filename in self.datasrc:\n",
    "            image = self.datasrc[filename]\n",
    "        else:\n",
    "            import asdf\n",
    "            from ginga.AstroImage import AstroImage\n",
    "\n",
    "            image = AstroImage(logger=self.logger)\n",
    "            image.load_file(filename, data_key='data')\n",
    "\n",
    "            self.datasrc[filename] = image\n",
    "\n",
    "        self._viewer.set_image(image)\n",
    "\n",
    "    def load_fits(self, filename):\n",
    "        bnch = get_fileinfo(filename)\n",
    "        \n",
    "        if filename in self.datasrc:\n",
    "            image = self.datasrc[filename]\n",
    "            self._viewer.set_image(image)\n",
    "        else:\n",
    "            super().load_fits(bnch.filepath, numhdu=bnch.numhdu)\n",
    "            self.datasrc[filename] = self._viewer.get_image()\n",
    "        \n",
    "    def link_viewer(self, other_viewer):\n",
    "        self._other_viewer = other_viewer\n",
    "\n",
    "    def _mouse_click_cb(self, viewer, event, data_x, data_y):\n",
    "        image = viewer.get_image()\n",
    "        if image is None:  # Nothing to do\n",
    "            return\n",
    "              \n",
    "        if isinstance(self._other_viewer, ImageWidget):\n",
    "            other_image = self._other_viewer._viewer.get_image()\n",
    "            if other_image is not None:\n",
    "                if image.wcs.wcs is not None and other_image.wcs.wcs is not None:\n",
    "                    ra, dec = image.pixtoradec(data_x, data_y)\n",
    "                    other_x, other_y = other_image.radectopix(ra, dec)\n",
    "                    statusmsg.value = f'Clicked RA={ra},Dec={dec}'\n",
    "                else:\n",
    "                    other_x, other_y = data_x, data_y\n",
    "                    statusmsg.value = f'Clicked X={data_x},Y={data_y}'\n",
    "            \n",
    "                self._other_viewer._mouse_click_cb(self._other_viewer._viewer, event, other_x, other_y)\n",
    "            \n",
    "        super()._mouse_click_cb(self._viewer, event, data_x, data_y)"
   ]
  },
  {
   "cell_type": "code",
   "execution_count": null,
   "metadata": {},
   "outputs": [],
   "source": [
    "w1 = LinkedImageWidget(logger=logger)\n",
    "w2 = LinkedImageWidget(logger=logger)"
   ]
  },
  {
   "cell_type": "code",
   "execution_count": null,
   "metadata": {},
   "outputs": [],
   "source": [
    "w1.link_viewer(w2)  # w1 is primary viewer for WCS matching\n",
    "w1.click_center = True\n",
    "w2.click_center = True"
   ]
  },
  {
   "cell_type": "code",
   "execution_count": null,
   "metadata": {},
   "outputs": [],
   "source": [
    "fits_files = [\n",
    "    'N/A',\n",
    "    'D:\\\\PLLIM\\\\STScI\\\\ssb\\\\test_data\\\\jw42424001001_01101_00001_nrca5_assign_wcs.fits',\n",
    "    'D:\\\\PLLIM\\\\STScI\\\\ssb\\\\test_data\\\\jw42424001001_01101_00002_nrca5_assign_wcs.fits',\n",
    "    'D:\\\\PLLIM\\\\STScI\\\\ssb\\\\test_data\\\\jw42424001001_01101_00003_nrca5_assign_wcs.fits']"
   ]
  },
  {
   "cell_type": "code",
   "execution_count": null,
   "metadata": {},
   "outputs": [],
   "source": [
    "def menu_factory(label, w):\n",
    "    def menu(event):\n",
    "        filename = event['new']\n",
    "        if filename != 'N/A':\n",
    "            label.value = os.path.basename(filename)\n",
    "            # w.load_fits(filename)  # FITS\n",
    "            w.load_jwst_asdf(filename)  # JWST ASDF-in-FITS\n",
    "    return menu"
   ]
  },
  {
   "cell_type": "code",
   "execution_count": null,
   "metadata": {},
   "outputs": [],
   "source": [
    "label1 = Label('Filename')\n",
    "label2 = Label('Filename')\n",
    "statusmsg.value = ''  # Reset status message"
   ]
  },
  {
   "cell_type": "code",
   "execution_count": null,
   "metadata": {},
   "outputs": [],
   "source": [
    "dropdown1 = Dropdown(\n",
    "    options=fits_files,\n",
    "    value='N/A',\n",
    "    description='Select file:')\n",
    "\n",
    "dropdown2 = Dropdown(\n",
    "    options=fits_files,\n",
    "    value='N/A',\n",
    "    description='Select file:')"
   ]
  },
  {
   "cell_type": "code",
   "execution_count": null,
   "metadata": {},
   "outputs": [],
   "source": [
    "dropdown1.observe(menu_factory(label1, w1), 'value')\n",
    "dropdown2.observe(menu_factory(label2, w2), 'value')"
   ]
  },
  {
   "cell_type": "code",
   "execution_count": null,
   "metadata": {},
   "outputs": [],
   "source": [
    "button_zoomlevel = Button(description=\"Sync zoom level\")\n",
    "\n",
    "def on_button_zoomlevel_clicked(b):\n",
    "    w2.zoom_level = w1.zoom_level\n",
    "\n",
    "button_zoomlevel.on_click(on_button_zoomlevel_clicked)"
   ]
  },
  {
   "cell_type": "code",
   "execution_count": null,
   "metadata": {
    "scrolled": false
   },
   "outputs": [],
   "source": [
    "VBox([HBox([VBox([label1, w1, dropdown1], layout=Layout(margin='0 10px 0 0')),\n",
    "            VBox([label2, w2, dropdown2])]),\n",
    "      button_zoomlevel,\n",
    "      statusmsg])"
   ]
  },
  {
   "cell_type": "markdown",
   "metadata": {},
   "source": [
    "#### Instructions\n",
    "\n",
    "Load images by selecting them from the respective dropdown menus for the viewers.\n",
    "\n",
    "Click on the left viewer and the right one will match in RA and Dec of centered point. No distortion correction is performed at this point.\n",
    "\n",
    "Press `+`/`-` to zoom in/out. Click \"Sync zoom level\" button to have the right viewer match the zoom level of the left one."
   ]
  }
 ],
 "metadata": {
  "kernelspec": {
   "display_name": "Python 3",
   "language": "python",
   "name": "python3"
  },
  "language_info": {
   "codemirror_mode": {
    "name": "ipython",
    "version": 3
   },
   "file_extension": ".py",
   "mimetype": "text/x-python",
   "name": "python",
   "nbconvert_exporter": "python",
   "pygments_lexer": "ipython3",
   "version": "3.7.1"
  }
 },
 "nbformat": 4,
 "nbformat_minor": 2
}
