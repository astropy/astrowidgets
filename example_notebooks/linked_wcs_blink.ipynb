{
 "cells": [
  {
   "cell_type": "markdown",
   "metadata": {},
   "source": [
    "Use case: 1 window to \"blink\" 2 candidates manually with a \"hot key.\""
   ]
  },
  {
   "cell_type": "code",
   "execution_count": null,
   "metadata": {},
   "outputs": [],
   "source": [
    "import os\n",
    "\n",
    "from ipywidgets import Button, Label, VBox, HBox\n",
    "from ipyevents import Event\n",
    "\n",
    "from astropy.coordinates import SkyCoord\n",
    "\n",
    "from ginga.misc import Datasrc\n",
    "from ginga.misc.log import get_logger\n",
    "from ginga.util import wcsmod\n",
    "from ginga.util.iohelper import get_fileinfo\n",
    "\n",
    "from astrowidgets import ImageWidget"
   ]
  },
  {
   "cell_type": "code",
   "execution_count": null,
   "metadata": {},
   "outputs": [],
   "source": [
    "# Reading ASDF in Ginga needs this to be specified early on\n",
    "wcsmod.use('astropy_ape14')"
   ]
  },
  {
   "cell_type": "code",
   "execution_count": null,
   "metadata": {},
   "outputs": [],
   "source": [
    "logger = get_logger('my viewer', log_stderr=True, log_file=None, level=30)"
   ]
  },
  {
   "cell_type": "code",
   "execution_count": null,
   "metadata": {},
   "outputs": [],
   "source": [
    "class BlinkImageWidget(ImageWidget):\n",
    "    def __init__(self, *args, **kwargs):\n",
    "        super().__init__(*args, **kwargs)\n",
    "        num_images = 10  # Max images in cache; should user be able to set this?\n",
    "        self.datasrc = Datasrc.Datasrc(num_images)  # Cache\n",
    "        self._saved_skycoord = None\n",
    "        self._saved_zoom_level = None\n",
    "\n",
    "    def load_jwst_asdf(self, filename):\n",
    "        if filename in self.datasrc:\n",
    "            image = self.datasrc[filename]\n",
    "        else:\n",
    "            import asdf\n",
    "            from ginga.AstroImage import AstroImage\n",
    "\n",
    "            image = AstroImage(logger=self.logger)\n",
    "            image.load_file(filename, data_key='data')\n",
    "\n",
    "            self.datasrc[filename] = image\n",
    "\n",
    "        self._viewer.set_image(image)\n",
    "        \n",
    "    def load_fits(self, filename):\n",
    "        bnch = get_fileinfo(filename)\n",
    "        \n",
    "        if filename in self.datasrc:\n",
    "            image = self.datasrc[filename]\n",
    "            self._viewer.set_image(image)\n",
    "        else:\n",
    "            super().load_fits(bnch.filepath, numhdu=bnch.numhdu)\n",
    "            self.datasrc[filename] = self._viewer.get_image()\n",
    "\n",
    "    def _mouse_click_cb(self, viewer, event, data_x, data_y):\n",
    "        image = viewer.get_image()\n",
    "        if image is None:  # Nothing to do\n",
    "            return\n",
    "\n",
    "        if image.wcs.wcs is not None:\n",
    "            ra, dec = image.pixtoradec(data_x, data_y)\n",
    "            self._saved_skycoord = SkyCoord(ra, dec, unit='deg')\n",
    "\n",
    "        super()._mouse_click_cb(self._viewer, event, data_x, data_y)"
   ]
  },
  {
   "cell_type": "code",
   "execution_count": null,
   "metadata": {},
   "outputs": [],
   "source": [
    "w1 = BlinkImageWidget(logger=logger)\n",
    "w1.click_center = True"
   ]
  },
  {
   "cell_type": "code",
   "execution_count": null,
   "metadata": {},
   "outputs": [],
   "source": [
    "fits_files = [\n",
    "    'D:\\\\PLLIM\\\\STScI\\\\ssb\\\\test_data\\\\jw42424001001_01101_00001_nrca5_assign_wcs.fits',\n",
    "    'D:\\\\PLLIM\\\\STScI\\\\ssb\\\\test_data\\\\jw42424001001_01101_00002_nrca5_assign_wcs.fits',\n",
    "    'D:\\\\PLLIM\\\\STScI\\\\ssb\\\\test_data\\\\jw42424001001_01101_00003_nrca5_assign_wcs.fits']\n",
    "n_files = len(fits_files)\n",
    "i_file = None  # This counter will be updated by button"
   ]
  },
  {
   "cell_type": "code",
   "execution_count": null,
   "metadata": {},
   "outputs": [],
   "source": [
    "label1 = Label('Filename')\n",
    "button1 = Button(description=\"Next image\")\n",
    "button2 = Button(description=\"Set zoom level\")"
   ]
  },
  {
   "cell_type": "code",
   "execution_count": null,
   "metadata": {},
   "outputs": [],
   "source": [
    "def load_image(i_file):\n",
    "    filename = fits_files[i_file]\n",
    "    label1.value = os.path.basename(filename)\n",
    "    # w1.load_fits(filename)  # FITS\n",
    "    w1.load_jwst_asdf(filename)  # JWST ASDF-in-FITS\n",
    "\n",
    "    # Jump to saved coordinates\n",
    "    image = w1._viewer.get_image()\n",
    "    if image.wcs.wcs is not None and isinstance(w1._saved_skycoord, SkyCoord):\n",
    "        w1.center_on(w1._saved_skycoord)\n",
    "    if w1._saved_zoom_level is not None:\n",
    "        w1.zoom_level = w1._saved_zoom_level\n",
    "\n",
    "d = Event(source=button1, watched_events=['click', 'keydown', 'mouseenter'])\n",
    "\n",
    "def handle_event(event):\n",
    "    global i_file\n",
    "    event_type = event['type']\n",
    "    go_forward = None\n",
    "\n",
    "    if event_type == 'keydown':\n",
    "        event_key = event['key']\n",
    "        if event_key == 'ArrowRight':\n",
    "            go_forward = True\n",
    "        elif event_key == 'ArrowLeft':\n",
    "            go_forward = False\n",
    "    elif event_type == 'click':\n",
    "        go_forward = True\n",
    "\n",
    "    if go_forward is None:  # Nothing to do\n",
    "        return\n",
    "\n",
    "    if i_file is None:\n",
    "        i_file = 0\n",
    "    elif go_forward:\n",
    "        i_file = (i_file + 1) % n_files\n",
    "    else:\n",
    "        i_file = (i_file - 1) % n_files\n",
    "\n",
    "    load_image(i_file)\n",
    "        \n",
    "d.on_dom_event(handle_event)"
   ]
  },
  {
   "cell_type": "code",
   "execution_count": null,
   "metadata": {},
   "outputs": [],
   "source": [
    "def on_button2_clicked(b):\n",
    "    w1._saved_zoom_level = w1.zoom_level\n",
    "\n",
    "button2.on_click(on_button2_clicked)"
   ]
  },
  {
   "cell_type": "code",
   "execution_count": null,
   "metadata": {
    "scrolled": false
   },
   "outputs": [],
   "source": [
    "VBox([label1, w1, HBox([button1, button2])])"
   ]
  },
  {
   "cell_type": "markdown",
   "metadata": {},
   "source": [
    "Click \"Next image\" to start blinking. Alternately, you can also mouse over \"Next image\" and use the left/right arrow keys instead.\n",
    "\n",
    "Use `+` or `-` to zoom to the desired zoom level and click \"Set zoom level\" to save it."
   ]
  }
 ],
 "metadata": {
  "kernelspec": {
   "display_name": "Python 3",
   "language": "python",
   "name": "python3"
  },
  "language_info": {
   "codemirror_mode": {
    "name": "ipython",
    "version": 3
   },
   "file_extension": ".py",
   "mimetype": "text/x-python",
   "name": "python",
   "nbconvert_exporter": "python",
   "pygments_lexer": "ipython3",
   "version": "3.7.1"
  }
 },
 "nbformat": 4,
 "nbformat_minor": 2
}
