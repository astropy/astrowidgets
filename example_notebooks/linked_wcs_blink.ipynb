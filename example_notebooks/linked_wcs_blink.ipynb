{
 "cells": [
  {
   "cell_type": "markdown",
   "metadata": {},
   "source": [
    "Use case: 1 window to \"blink\" 2 candidates manually with a \"hot key.\""
   ]
  },
  {
   "cell_type": "code",
   "execution_count": null,
   "metadata": {},
   "outputs": [],
   "source": [
    "import os\n",
    "\n",
    "from ipywidgets import Label, VBox\n",
    "from ipyevents import Event\n",
    "\n",
    "from astropy.coordinates import SkyCoord\n",
    "\n",
    "from ginga.misc import Datasrc\n",
    "from ginga.misc.log import get_logger\n",
    "from ginga.util import wcsmod\n",
    "from ginga.util.iohelper import get_fileinfo\n",
    "\n",
    "from astrowidgets import ImageWidget"
   ]
  },
  {
   "cell_type": "code",
   "execution_count": null,
   "metadata": {},
   "outputs": [],
   "source": [
    "# Reading ASDF in Ginga needs this to be specified early on\n",
    "wcsmod.use('astropy_ape14')"
   ]
  },
  {
   "cell_type": "code",
   "execution_count": null,
   "metadata": {},
   "outputs": [],
   "source": [
    "logger = get_logger('my viewer', log_stderr=True, log_file=None, level=30)"
   ]
  },
  {
   "cell_type": "code",
   "execution_count": null,
   "metadata": {},
   "outputs": [],
   "source": [
    "class BlinkImageWidget(ImageWidget):\n",
    "    def __init__(self, *args, **kwargs):\n",
    "        super().__init__(*args, **kwargs)\n",
    "        num_images = 10  # Max images in cache; should user be able to set this?\n",
    "        self.datasrc = Datasrc.Datasrc(num_images)  # Cache\n",
    "\n",
    "    # Need jwst package to be installed.\n",
    "    def load_jwst_asdf(self, filename):\n",
    "        if filename in self.datasrc:\n",
    "            image = self.datasrc[filename]\n",
    "        else:\n",
    "            import asdf\n",
    "            from ginga.AstroImage import AstroImage\n",
    "\n",
    "            image = AstroImage(logger=self.logger)\n",
    "            image.load_file(filename, data_key='data')\n",
    "\n",
    "            self.datasrc[filename] = image\n",
    "\n",
    "        self._viewer.set_image(image)\n",
    "        \n",
    "    def load_fits(self, filename):\n",
    "        bnch = get_fileinfo(filename)\n",
    "        \n",
    "        if filename in self.datasrc:\n",
    "            image = self.datasrc[filename]\n",
    "            self._viewer.set_image(image)\n",
    "        else:\n",
    "            super().load_fits(bnch.filepath, numhdu=bnch.numhdu)\n",
    "            self.datasrc[filename] = self._viewer.get_image()"
   ]
  },
  {
   "cell_type": "code",
   "execution_count": null,
   "metadata": {},
   "outputs": [],
   "source": [
    "w1 = BlinkImageWidget(logger=logger)\n",
    "w1.click_center = True\n",
    "\n",
    "# Autozoom and autocenter only for the first time.\n",
    "w1._viewer.enable_autozoom('once')\n",
    "w1._viewer.enable_autocenter('once')"
   ]
  },
  {
   "cell_type": "code",
   "execution_count": null,
   "metadata": {},
   "outputs": [],
   "source": [
    "fits_files = [\n",
    "    '/redkeep/ironthrone/ssb/stginga/test_data/jw42424001001_01101_00001_nrca5_assign_wcs.fits',\n",
    "    '/redkeep/ironthrone/ssb/stginga/test_data/jw42424001001_01101_00002_nrca5_assign_wcs.fits',\n",
    "    '/redkeep/ironthrone/ssb/stginga/test_data/jw42424001001_01101_00003_nrca5_assign_wcs.fits']\n",
    "n_files = len(fits_files)\n",
    "i_file = None  # This counter will be updated by button"
   ]
  },
  {
   "cell_type": "code",
   "execution_count": null,
   "metadata": {},
   "outputs": [],
   "source": [
    "label1 = Label('Filename')"
   ]
  },
  {
   "cell_type": "code",
   "execution_count": null,
   "metadata": {},
   "outputs": [],
   "source": [
    "def load_image(i_file):\n",
    "    # Get data off the current image before switching\n",
    "    image = w1._viewer.get_image()\n",
    "    data_x = None\n",
    "    saved_skycoord = None\n",
    "    saved_zoom_level = None\n",
    "    if image is not None:\n",
    "        saved_zoom_level = w1.zoom_level\n",
    "        data_x, data_y = w1._viewer.get_data_xy(*w1._viewer.get_center())\n",
    "        try:\n",
    "            ra, dec = image.pixtoradec(data_x, data_y)\n",
    "            saved_skycoord = SkyCoord(ra, dec, unit='deg')\n",
    "        except Exception:\n",
    "            pass\n",
    "\n",
    "    filename = fits_files[i_file]\n",
    "    label1.value = os.path.basename(filename)\n",
    "    # w1.load_fits(filename)  # FITS\n",
    "    w1.load_jwst_asdf(filename)  # JWST ASDF-in-FITS\n",
    "\n",
    "    image = w1._viewer.get_image()\n",
    "    \n",
    "    # Center at the same place as primary viewer\n",
    "    if data_x:\n",
    "        center_by_xy = True\n",
    "        if saved_skycoord and image.wcs.wcs:\n",
    "            try:\n",
    "                w1.center_on(saved_skycoord)\n",
    "            except Exception:\n",
    "                pass\n",
    "            else:\n",
    "                center_by_xy = False\n",
    "        if center_by_xy:\n",
    "            w1.center_on((data_x, data_y))\n",
    "\n",
    "    if saved_zoom_level:\n",
    "        w1.zoom_level = saved_zoom_level\n",
    "\n",
    "\n",
    "def handle_event(event):\n",
    "    global i_file\n",
    "\n",
    "    if event['type'] != 'keydown':\n",
    "        return\n",
    "    \n",
    "    if i_file is None:\n",
    "        i_file = 0\n",
    "    elif event['key'] == 'ArrowRight':\n",
    "        i_file = (i_file + 1) % n_files\n",
    "    elif event['key'] == 'ArrowLeft':\n",
    "        i_file = (i_file - 1) % n_files\n",
    "    else:\n",
    "        return\n",
    "\n",
    "    load_image(i_file)\n",
    "\n",
    "\n",
    "d = Event(source=w1, watched_events=['keydown'])\n",
    "d.on_dom_event(handle_event)"
   ]
  },
  {
   "cell_type": "code",
   "execution_count": null,
   "metadata": {
    "scrolled": false
   },
   "outputs": [],
   "source": [
    "VBox([label1, w1])"
   ]
  },
  {
   "cell_type": "markdown",
   "metadata": {},
   "source": [
    "You can mouse over the image display widget and use the left/right arrow keys to blink."
   ]
  }
 ],
 "metadata": {
  "kernelspec": {
   "display_name": "Python 3",
   "language": "python",
   "name": "python3"
  },
  "language_info": {
   "codemirror_mode": {
    "name": "ipython",
    "version": 3
   },
   "file_extension": ".py",
   "mimetype": "text/x-python",
   "name": "python",
   "nbconvert_exporter": "python",
   "pygments_lexer": "ipython3",
   "version": "3.7.3"
  }
 },
 "nbformat": 4,
 "nbformat_minor": 2
}
